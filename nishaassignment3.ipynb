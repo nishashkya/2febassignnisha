{
 "cells": [
  {
   "cell_type": "code",
   "execution_count": 2,
   "id": "4d9c67b1-b38c-4783-a838-5a2d069b2d7d",
   "metadata": {},
   "outputs": [],
   "source": [
    "#ques1_Answer :use of for loop and while loop with an example"
   ]
  },
  {
   "cell_type": "code",
   "execution_count": 19,
   "id": "beb4085b-0100-41be-9dbb-bd902321f105",
   "metadata": {},
   "outputs": [
    {
     "name": "stdout",
     "output_type": "stream",
     "text": [
      "Input list elements:\n",
      "10\n",
      "20\n",
      "30\n",
      "40\n",
      "50\n"
     ]
    }
   ],
   "source": [
    "# for loop is used when the number of iterationn is known.#\n",
    "# while loop is used when the number of iteration is unknown and execution is done in the while loop until the statement in the program is proved wrong.#\n",
    "\n",
    "#example (for loop)\n",
    "\n",
    "inputList = [10, 20, 30, 40, 50]\n",
    "print(\"Input list elements:\")\n",
    "# traversing through all elements of the list using for loop\n",
    "for element in inputList:\n",
    "   # printing each element of the list\n",
    "   print(element)\n"
   ]
  },
  {
   "cell_type": "code",
   "execution_count": 20,
   "id": "bc33527a-f5ab-47ad-9686-30eeeaa3ed91",
   "metadata": {},
   "outputs": [
    {
     "name": "stdout",
     "output_type": "stream",
     "text": [
      "1\n",
      "2\n",
      "3\n",
      "4\n",
      "5\n",
      "6\n",
      "7\n",
      "8\n",
      "9\n"
     ]
    }
   ],
   "source": [
    "#ans1 : example while loop:\n",
    "\n",
    "#Initializing a dummy variable with 1\n",
    "i = 1\n",
    "# Iterate until the given condition is true\n",
    "while i < 10:\n",
    "   # printing the current value of the above variable\n",
    "   print(i)\n",
    "   # incrementing the value of i value by 1\n",
    "   i += 1 "
   ]
  },
  {
   "cell_type": "code",
   "execution_count": null,
   "id": "1d7edb8d-1437-46b9-81e3-cde935128ed9",
   "metadata": {},
   "outputs": [],
   "source": [
    "#ques2 sum and product of first 10 natural numbers using for loop"
   ]
  },
  {
   "cell_type": "code",
   "execution_count": 12,
   "id": "55bc177c-9896-4720-8e84-1a8b6c3cd60e",
   "metadata": {},
   "outputs": [
    {
     "name": "stdout",
     "output_type": "stream",
     "text": [
      "sum of first 10 natural numbers is 55\n"
     ]
    }
   ],
   "source": [
    "#sum using for loop\n",
    "sum = 0\n",
    "for i in range (1,11):\n",
    "    sum = sum +i\n",
    "print(\"sum of first 10 natural numbers is\",sum)"
   ]
  },
  {
   "cell_type": "code",
   "execution_count": 22,
   "id": "5316a945-4edb-496e-8dad-c5a26b7f614a",
   "metadata": {},
   "outputs": [
    {
     "name": "stdout",
     "output_type": "stream",
     "text": [
      " product of 10 natural numbers is 3628800\n"
     ]
    }
   ],
   "source": [
    "#product using for loop\n",
    "product =1\n",
    "for i in range (1,11):\n",
    "    product = product*i\n",
    "print(\" product of 10 natural numbers is\" , product)"
   ]
  },
  {
   "cell_type": "code",
   "execution_count": 23,
   "id": "a2c8a6e9-0937-4bf9-a224-dbf089f0326b",
   "metadata": {},
   "outputs": [],
   "source": [
    "#sum and product of 10 natural numbers using while loop"
   ]
  },
  {
   "cell_type": "code",
   "execution_count": 9,
   "id": "0be18bc9-cbea-4f46-aadd-aaaad0198442",
   "metadata": {},
   "outputs": [
    {
     "name": "stdin",
     "output_type": "stream",
     "text": [
      " enter the limit how many natural number you want to sum 10\n"
     ]
    },
    {
     "name": "stdout",
     "output_type": "stream",
     "text": [
      "55\n"
     ]
    }
   ],
   "source": [
    "#sum using while loop\n",
    "n = int(input(\" enter the limit how many natural number you want to sum\"))\n",
    "sum=0\n",
    "i =1\n",
    "while(i<=10):\n",
    "    sum = sum +i\n",
    "    i = i +1\n",
    "print( sum)"
   ]
  },
  {
   "cell_type": "code",
   "execution_count": 6,
   "id": "a285622f-4033-4f9a-86df-b97d2b99ae4c",
   "metadata": {},
   "outputs": [
    {
     "name": "stdin",
     "output_type": "stream",
     "text": [
      "enter the limit how many natural numbers you want to product 10\n"
     ]
    },
    {
     "name": "stdout",
     "output_type": "stream",
     "text": [
      "3628800\n"
     ]
    }
   ],
   "source": [
    "#product using while loop\n",
    "n = int(input(\"enter the limit how many natural numbers you want to product\"))\n",
    "product = 1\n",
    "i = 1\n",
    "while(i<=10):\n",
    "    product = product *i\n",
    "    i = i+1\n",
    "print( product )10"
   ]
  },
  {
   "cell_type": "code",
   "execution_count": 11,
   "id": "5837e226-bdff-4ba9-86ee-32d33144285d",
   "metadata": {},
   "outputs": [
    {
     "name": "stdin",
     "output_type": "stream",
     "text": [
      "enter the units of electricity consumed in a month 310\n"
     ]
    },
    {
     "name": "stdout",
     "output_type": "stream",
     "text": [
      "total electricity bill should be 2250.0\n"
     ]
    }
   ],
   "source": [
    "#ques3_Answer: computation of electricity bill for a household:\n",
    "unit = int(input(\"enter the units of electricity consumed in a month\"))\n",
    "total_electricity_bill=0\n",
    "if unit<=100:\n",
    "    total_electricity_bill=unit*4.5\n",
    "elif unit<=200 and unit>100:\n",
    "    total_electricity_bill= 100*4.5+(unit-100)*6\n",
    "elif unit<=300 and unit >200:\n",
    "    total_electricity_bill = 100*4.5 +100*6+(unit-300)*10\n",
    "else:\n",
    "    total_electricity_bill= 100*4.5+100*6+100*10+(unit-300)*20\n",
    "    print(\"total electricity bill should be\",total_electricity_bill)\n",
    "\n",
    "    "
   ]
  },
  {
   "cell_type": "code",
   "execution_count": null,
   "id": "3259bd9b-2d46-4132-a57d-d76abc55c3cb",
   "metadata": {},
   "outputs": [],
   "source": [
    "#ques4_ calculate the cube of number 1 to 100 using for loop and while loop"
   ]
  },
  {
   "cell_type": "code",
   "execution_count": 8,
   "id": "b61c558a-f227-4be5-bf12-463479ff4da6",
   "metadata": {},
   "outputs": [
    {
     "name": "stdout",
     "output_type": "stream",
     "text": [
      "[8, 64, 125, 216, 512, 1000, 1728, 2744, 3375, 4096, 5832, 8000, 10648, 13824, 15625, 17576, 21952, 27000, 32768, 39304, 42875, 46656, 54872, 64000, 74088, 85184, 91125, 97336, 110592, 125000, 140608, 157464, 166375, 175616, 195112, 216000, 238328, 262144, 274625, 287496, 314432, 343000, 373248, 405224, 421875, 438976, 474552, 512000, 551368, 592704, 614125, 636056, 681472, 729000, 778688, 830584, 857375, 884736, 941192, 1000000]\n"
     ]
    }
   ],
   "source": [
    "#Ans_4 : for loop to calculate cube of each number and if it is divisible by 4 or 5 append that number in a list\n",
    "l1=[]\n",
    "l2=[]\n",
    "l=[i*i*i for i in range(1,101)]\n",
    "for i in l:\n",
    "    if (i*i*i)%4==0 or(i*i*i)%5==0:\n",
    "        l1.append(i)\n",
    "print(l1)\n",
    "    "
   ]
  },
  {
   "cell_type": "code",
   "execution_count": 18,
   "id": "8f42663c-a120-4b40-a8d3-855cf04bfc5d",
   "metadata": {},
   "outputs": [
    {
     "name": "stdout",
     "output_type": "stream",
     "text": [
      "[8, 64, 125, 216, 512, 1000, 1728, 2744, 3375, 4096, 5832, 8000, 10648, 13824, 15625, 17576, 21952, 27000, 32768, 39304, 42875, 46656, 54872, 64000, 74088, 85184, 91125, 97336, 110592, 125000, 140608, 157464, 166375, 175616, 195112, 216000, 238328, 262144, 274625, 287496, 314432, 343000, 373248, 405224, 421875, 438976, 474552, 512000, 551368, 592704, 614125, 636056, 681472, 729000, 778688, 830584, 857375, 884736, 941192, 1000000]\n"
     ]
    }
   ],
   "source": [
    "#Ans_4 : while loop to calculate cube of each number and if it is divisible by 4 or 5 append that number in a list\n",
    "cube = 1\n",
    "i = 1\n",
    "l1=[]\n",
    "while(i<=100):\n",
    "    cube =i*i*i\n",
    "    i = i+1\n",
    "    if (i*i*i)%4==0 or (i*i*i)%5==0:\n",
    "        l1.append(i*i*i)\n",
    "print(l1)\n"
   ]
  },
  {
   "cell_type": "code",
   "execution_count": null,
   "id": "1f2ae29d-8e60-40e7-acf1-6ea531ef2dfb",
   "metadata": {},
   "outputs": [],
   "source": [
    "#ques5 program to filter count vowels in the given string"
   ]
  },
  {
   "cell_type": "code",
   "execution_count": 4,
   "id": "6b7b4bc2-3241-4ad7-8840-dba136d1b8dc",
   "metadata": {},
   "outputs": [
    {
     "name": "stdin",
     "output_type": "stream",
     "text": [
      "enter the string i want to become a data scientist\n"
     ]
    },
    {
     "name": "stdout",
     "output_type": "stream",
     "text": [
      "12\n"
     ]
    }
   ],
   "source": [
    "str =input(\"enter the string\")\n",
    "vowels =\"aeiou\"\n",
    "count=0\n",
    "for i in str :\n",
    "   if i in vowels:\n",
    "     count = count +1\n",
    "print(count)"
   ]
  },
  {
   "cell_type": "code",
   "execution_count": 14,
   "id": "2158e2a8-7746-471a-bcf4-2c3fdc533b3c",
   "metadata": {},
   "outputs": [],
   "source": []
  },
  {
   "cell_type": "code",
   "execution_count": null,
   "id": "222c9503-7c06-4360-9523-7fa7230e1186",
   "metadata": {},
   "outputs": [],
   "source": []
  },
  {
   "cell_type": "code",
   "execution_count": null,
   "id": "79b6ee8f-1b49-4cc7-8b4f-cf98a66e67a0",
   "metadata": {},
   "outputs": [],
   "source": []
  }
 ],
 "metadata": {
  "kernelspec": {
   "display_name": "Python 3 (ipykernel)",
   "language": "python",
   "name": "python3"
  },
  "language_info": {
   "codemirror_mode": {
    "name": "ipython",
    "version": 3
   },
   "file_extension": ".py",
   "mimetype": "text/x-python",
   "name": "python",
   "nbconvert_exporter": "python",
   "pygments_lexer": "ipython3",
   "version": "3.10.6"
  }
 },
 "nbformat": 4,
 "nbformat_minor": 5
}
